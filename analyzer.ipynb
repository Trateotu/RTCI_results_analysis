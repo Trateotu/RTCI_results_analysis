{
 "cells": [
  {
   "cell_type": "markdown",
   "metadata": {},
   "source": [
    "# BusMezzo output analyzer \n",
    "Showcase / Tutorial\n",
    "---\n",
    " Rafał Kucharski rkucharski _at_ pk.edu.pl Politechnika Krakowska, Krakow, Poland\n",
    "\n",
    "---\n",
    "\n",
    "\n",
    "* We start from BusMezzo output files\n",
    "* We parse them to panda readable csvs (generated with the scripts on 'input_parsers.ipynb')\n",
    "* We create pandas DataFrame (sth like SQL tables)\n",
    "* Analazy them \n",
    "* Plot something\n",
    "* Filter, pivot\n",
    "* Merge (SQL Join) two tables to get interesting cross-table analyzes\n",
    "---\n"
   ]
  },
  {
   "cell_type": "code",
   "execution_count": 61,
   "metadata": {},
   "outputs": [],
   "source": [
    "import pandas as pd\n",
    "import os\n",
    "%matplotlib inline"
   ]
  },
  {
   "cell_type": "code",
   "execution_count": 7,
   "metadata": {},
   "outputs": [],
   "source": [
    "path = os.path.join('Amsterdam_output',\"parsed\")"
   ]
  },
  {
   "cell_type": "markdown",
   "metadata": {},
   "source": [
    "# 1. Reading data"
   ]
  },
  {
   "cell_type": "markdown",
   "metadata": {},
   "source": [
    "## Read o_transit_trajectory"
   ]
  },
  {
   "cell_type": "code",
   "execution_count": 72,
   "metadata": {},
   "outputs": [
    {
     "data": {
      "text/html": [
       "<div>\n",
       "<style scoped>\n",
       "    .dataframe tbody tr th:only-of-type {\n",
       "        vertical-align: middle;\n",
       "    }\n",
       "\n",
       "    .dataframe tbody tr th {\n",
       "        vertical-align: top;\n",
       "    }\n",
       "\n",
       "    .dataframe thead th {\n",
       "        text-align: right;\n",
       "    }\n",
       "</style>\n",
       "<table border=\"1\" class=\"dataframe\">\n",
       "  <thead>\n",
       "    <tr style=\"text-align: right;\">\n",
       "      <th></th>\n",
       "      <th>Line_ID</th>\n",
       "      <th>Trip_ID</th>\n",
       "      <th>Stop_ID</th>\n",
       "      <th>Vehicle_ID</th>\n",
       "      <th>Link_ID</th>\n",
       "      <th>Entering?</th>\n",
       "      <th>Arrival/Departure_time</th>\n",
       "    </tr>\n",
       "    <tr>\n",
       "      <th>index</th>\n",
       "      <th></th>\n",
       "      <th></th>\n",
       "      <th></th>\n",
       "      <th></th>\n",
       "      <th></th>\n",
       "      <th></th>\n",
       "      <th></th>\n",
       "    </tr>\n",
       "  </thead>\n",
       "  <tbody>\n",
       "    <tr>\n",
       "      <th>0</th>\n",
       "      <td>50</td>\n",
       "      <td>5001</td>\n",
       "      <td>5001</td>\n",
       "      <td>5001</td>\n",
       "      <td>50005001</td>\n",
       "      <td>1</td>\n",
       "      <td>180.110</td>\n",
       "    </tr>\n",
       "    <tr>\n",
       "      <th>1</th>\n",
       "      <td>50</td>\n",
       "      <td>5001</td>\n",
       "      <td>5001</td>\n",
       "      <td>5001</td>\n",
       "      <td>50005001</td>\n",
       "      <td>0</td>\n",
       "      <td>195.642</td>\n",
       "    </tr>\n",
       "    <tr>\n",
       "      <th>2</th>\n",
       "      <td>50</td>\n",
       "      <td>5001</td>\n",
       "      <td>5002</td>\n",
       "      <td>5001</td>\n",
       "      <td>50015002</td>\n",
       "      <td>1</td>\n",
       "      <td>296.642</td>\n",
       "    </tr>\n",
       "    <tr>\n",
       "      <th>3</th>\n",
       "      <td>50</td>\n",
       "      <td>5001</td>\n",
       "      <td>5002</td>\n",
       "      <td>5001</td>\n",
       "      <td>50015002</td>\n",
       "      <td>0</td>\n",
       "      <td>312.175</td>\n",
       "    </tr>\n",
       "    <tr>\n",
       "      <th>4</th>\n",
       "      <td>50</td>\n",
       "      <td>5001</td>\n",
       "      <td>5003</td>\n",
       "      <td>5001</td>\n",
       "      <td>50025003</td>\n",
       "      <td>1</td>\n",
       "      <td>413.175</td>\n",
       "    </tr>\n",
       "  </tbody>\n",
       "</table>\n",
       "</div>"
      ],
      "text/plain": [
       "       Line_ID  Trip_ID  Stop_ID  Vehicle_ID   Link_ID  Entering?  \\\n",
       "index                                                               \n",
       "0           50     5001     5001        5001  50005001          1   \n",
       "1           50     5001     5001        5001  50005001          0   \n",
       "2           50     5001     5002        5001  50015002          1   \n",
       "3           50     5001     5002        5001  50015002          0   \n",
       "4           50     5001     5003        5001  50025003          1   \n",
       "\n",
       "       Arrival/Departure_time  \n",
       "index                          \n",
       "0                     180.110  \n",
       "1                     195.642  \n",
       "2                     296.642  \n",
       "3                     312.175  \n",
       "4                     413.175  "
      ]
     },
     "execution_count": 72,
     "metadata": {},
     "output_type": "execute_result"
    }
   ],
   "source": [
    "df1 = pd.read_csv(os.path.join(path,'o_transit_trajectory.csv')).dropna(axis=1)\n",
    "df1.set_index(\"Unnamed: 0\", inplace = True)\n",
    "df1.index.name = 'index'\n",
    "df1.head()"
   ]
  },
  {
   "cell_type": "markdown",
   "metadata": {},
   "source": [
    "### Sample plot: Space-time trajectory of Trip 5001"
   ]
  },
  {
   "cell_type": "code",
   "execution_count": 68,
   "metadata": {},
   "outputs": [
    {
     "data": {
      "text/plain": [
       "<matplotlib.axes._subplots.AxesSubplot at 0x2d91fb21ef0>"
      ]
     },
     "execution_count": 68,
     "metadata": {},
     "output_type": "execute_result"
    },
    {
     "data": {
      "image/png": "[encoded data removed]",
      "text/plain": [
       "<Figure size 432x288 with 1 Axes>"
      ]
     },
     "metadata": {},
     "output_type": "display_data"
    }
   ],
   "source": [
    "df1[df1.Trip_ID==5001]['Arrival/Departure_time'].plot()"
   ]
  },
  {
   "cell_type": "markdown",
   "metadata": {},
   "source": [
    "## Read o_segments_trip_loads"
   ]
  },
  {
   "cell_type": "code",
   "execution_count": 74,
   "metadata": {},
   "outputs": [
    {
     "data": {
      "text/html": [
       "<div>\n",
       "<style scoped>\n",
       "    .dataframe tbody tr th:only-of-type {\n",
       "        vertical-align: middle;\n",
       "    }\n",
       "\n",
       "    .dataframe tbody tr th {\n",
       "        vertical-align: top;\n",
       "    }\n",
       "\n",
       "    .dataframe thead th {\n",
       "        text-align: right;\n",
       "    }\n",
       "</style>\n",
       "<table border=\"1\" class=\"dataframe\">\n",
       "  <thead>\n",
       "    <tr style=\"text-align: right;\">\n",
       "      <th></th>\n",
       "      <th>Line_ID</th>\n",
       "      <th>Trip_ID</th>\n",
       "      <th>Vehicle_ID</th>\n",
       "      <th>Start_stop_ID</th>\n",
       "      <th>Start_stop_name</th>\n",
       "      <th>End_stop_id</th>\n",
       "      <th>End_stop_name</th>\n",
       "      <th>Passenger_load</th>\n",
       "    </tr>\n",
       "    <tr>\n",
       "      <th>index</th>\n",
       "      <th></th>\n",
       "      <th></th>\n",
       "      <th></th>\n",
       "      <th></th>\n",
       "      <th></th>\n",
       "      <th></th>\n",
       "      <th></th>\n",
       "      <th></th>\n",
       "    </tr>\n",
       "  </thead>\n",
       "  <tbody>\n",
       "    <tr>\n",
       "      <th>0</th>\n",
       "      <td>50</td>\n",
       "      <td>5001</td>\n",
       "      <td>-1</td>\n",
       "      <td>5001</td>\n",
       "      <td>Isolatorweg</td>\n",
       "      <td>5002</td>\n",
       "      <td>Station_Sloterdijk</td>\n",
       "      <td>0</td>\n",
       "    </tr>\n",
       "    <tr>\n",
       "      <th>1</th>\n",
       "      <td>50</td>\n",
       "      <td>5001</td>\n",
       "      <td>-1</td>\n",
       "      <td>5002</td>\n",
       "      <td>Station_Sloterdijk</td>\n",
       "      <td>5003</td>\n",
       "      <td>Burg_De_Vlugtlaan</td>\n",
       "      <td>0</td>\n",
       "    </tr>\n",
       "    <tr>\n",
       "      <th>2</th>\n",
       "      <td>50</td>\n",
       "      <td>5001</td>\n",
       "      <td>-1</td>\n",
       "      <td>5003</td>\n",
       "      <td>Burg_De_Vlugtlaan</td>\n",
       "      <td>5004</td>\n",
       "      <td>Jan_van_Galenstraat</td>\n",
       "      <td>0</td>\n",
       "    </tr>\n",
       "    <tr>\n",
       "      <th>3</th>\n",
       "      <td>50</td>\n",
       "      <td>5001</td>\n",
       "      <td>-1</td>\n",
       "      <td>5004</td>\n",
       "      <td>Jan_van_Galenstraat</td>\n",
       "      <td>5005</td>\n",
       "      <td>Postjesweg</td>\n",
       "      <td>0</td>\n",
       "    </tr>\n",
       "    <tr>\n",
       "      <th>4</th>\n",
       "      <td>50</td>\n",
       "      <td>5001</td>\n",
       "      <td>-1</td>\n",
       "      <td>5005</td>\n",
       "      <td>Postjesweg</td>\n",
       "      <td>5006</td>\n",
       "      <td>Station_Lelylaan</td>\n",
       "      <td>0</td>\n",
       "    </tr>\n",
       "  </tbody>\n",
       "</table>\n",
       "</div>"
      ],
      "text/plain": [
       "       Line_ID  Trip_ID  Vehicle_ID  Start_stop_ID      Start_stop_name  \\\n",
       "index                                                                     \n",
       "0           50     5001          -1           5001          Isolatorweg   \n",
       "1           50     5001          -1           5002   Station_Sloterdijk   \n",
       "2           50     5001          -1           5003    Burg_De_Vlugtlaan   \n",
       "3           50     5001          -1           5004  Jan_van_Galenstraat   \n",
       "4           50     5001          -1           5005           Postjesweg   \n",
       "\n",
       "       End_stop_id        End_stop_name  Passenger_load  \n",
       "index                                                    \n",
       "0             5002   Station_Sloterdijk               0  \n",
       "1             5003    Burg_De_Vlugtlaan               0  \n",
       "2             5004  Jan_van_Galenstraat               0  \n",
       "3             5005           Postjesweg               0  \n",
       "4             5006     Station_Lelylaan               0  "
      ]
     },
     "execution_count": 74,
     "metadata": {},
     "output_type": "execute_result"
    }
   ],
   "source": [
    "df2 = pd.read_csv(os.path.join(path,'o_segments_trip_loads.csv')).dropna(axis=1)\n",
    "df2.set_index(\"Unnamed: 0\", inplace = True)\n",
    "df2.index.name = 'index'\n",
    "df2.head()"
   ]
  },
  {
   "cell_type": "markdown",
   "metadata": {},
   "source": [
    "### Sample plot: Distribution of passenger loads (network wide and line 50)"
   ]
  },
  {
   "cell_type": "code",
   "execution_count": 82,
   "metadata": {},
   "outputs": [
    {
     "data": {
      "text/plain": [
       "<matplotlib.axes._subplots.AxesSubplot at 0x2d921bb27b8>"
      ]
     },
     "execution_count": 82,
     "metadata": {},
     "output_type": "execute_result"
    },
    {
     "data": {
      "image/png": "[encoded data removed]",
      "text/plain": [
       "<Figure size 432x288 with 1 Axes>"
      ]
     },
     "metadata": {},
     "output_type": "display_data"
    }
   ],
   "source": [
    "df2.Passenger_load[df2.Passenger_load>0].hist(bins=30, density = True)\n",
    "df2.Passenger_load[(df2.Passenger_load>0) & (df2.Line_ID == 50)].hist(bins=30, density=True)"
   ]
  },
  {
   "cell_type": "markdown",
   "metadata": {},
   "source": [
    "### Line loads"
   ]
  },
  {
   "cell_type": "code",
   "execution_count": 87,
   "metadata": {},
   "outputs": [
    {
     "data": {
      "text/html": [
       "<div>\n",
       "<style scoped>\n",
       "    .dataframe tbody tr th:only-of-type {\n",
       "        vertical-align: middle;\n",
       "    }\n",
       "\n",
       "    .dataframe tbody tr th {\n",
       "        vertical-align: top;\n",
       "    }\n",
       "\n",
       "    .dataframe thead th {\n",
       "        text-align: right;\n",
       "    }\n",
       "</style>\n",
       "<table border=\"1\" class=\"dataframe\">\n",
       "  <thead>\n",
       "    <tr style=\"text-align: right;\">\n",
       "      <th></th>\n",
       "      <th>Passenger_load</th>\n",
       "    </tr>\n",
       "    <tr>\n",
       "      <th>Line_ID</th>\n",
       "      <th></th>\n",
       "    </tr>\n",
       "  </thead>\n",
       "  <tbody>\n",
       "    <tr>\n",
       "      <th>50</th>\n",
       "      <td>33537</td>\n",
       "    </tr>\n",
       "    <tr>\n",
       "      <th>51</th>\n",
       "      <td>51810</td>\n",
       "    </tr>\n",
       "    <tr>\n",
       "      <th>53</th>\n",
       "      <td>20524</td>\n",
       "    </tr>\n",
       "    <tr>\n",
       "      <th>54</th>\n",
       "      <td>37189</td>\n",
       "    </tr>\n",
       "    <tr>\n",
       "      <th>250</th>\n",
       "      <td>56887</td>\n",
       "    </tr>\n",
       "    <tr>\n",
       "      <th>251</th>\n",
       "      <td>54591</td>\n",
       "    </tr>\n",
       "    <tr>\n",
       "      <th>253</th>\n",
       "      <td>23386</td>\n",
       "    </tr>\n",
       "    <tr>\n",
       "      <th>254</th>\n",
       "      <td>23701</td>\n",
       "    </tr>\n",
       "  </tbody>\n",
       "</table>\n",
       "</div>"
      ],
      "text/plain": [
       "         Passenger_load\n",
       "Line_ID                \n",
       "50                33537\n",
       "51                51810\n",
       "53                20524\n",
       "54                37189\n",
       "250               56887\n",
       "251               54591\n",
       "253               23386\n",
       "254               23701"
      ]
     },
     "execution_count": 87,
     "metadata": {},
     "output_type": "execute_result"
    }
   ],
   "source": [
    "df2.groupby(\"Line_ID\").sum()['Passenger_load'].to_frame()"
   ]
  },
  {
   "cell_type": "markdown",
   "metadata": {},
   "source": [
    "### Temporal distirbution of line 50 loads"
   ]
  },
  {
   "cell_type": "code",
   "execution_count": 92,
   "metadata": {},
   "outputs": [
    {
     "data": {
      "text/plain": [
       "<matplotlib.axes._subplots.AxesSubplot at 0x2d921cb2668>"
      ]
     },
     "execution_count": 92,
     "metadata": {},
     "output_type": "execute_result"
    },
    {
     "data": {
      "image/png": "[encoded data removed]",
      "text/plain": [
       "<Figure size 432x288 with 1 Axes>"
      ]
     },
     "metadata": {},
     "output_type": "display_data"
    }
   ],
   "source": [
    "df2[df2.Line_ID == 50].groupby(\"Trip_ID\").sum()['Passenger_load'].plot(kind='bar', color='black')"
   ]
  },
  {
   "cell_type": "markdown",
   "metadata": {},
   "source": [
    "# 2. Merging two tables\n",
    "\n",
    "### Travel time table"
   ]
  },
  {
   "cell_type": "code",
   "execution_count": null,
   "metadata": {},
   "outputs": [],
   "source": [
    "result = pd.merge(df1, df2, how='outer', left_on=['Trip_ID', 'Stop_ID'], right_on = ['Trip_ID','Start_stop_ID'])\n",
    "result.head()"
   ]
  },
  {
   "cell_type": "markdown",
   "metadata": {},
   "source": [
    "### Create column with end stop id for o_transit_trajectory"
   ]
  },
  {
   "cell_type": "code",
   "execution_count": 134,
   "metadata": {},
   "outputs": [
    {
     "data": {
      "text/html": [
       "<div>\n",
       "<style scoped>\n",
       "    .dataframe tbody tr th:only-of-type {\n",
       "        vertical-align: middle;\n",
       "    }\n",
       "\n",
       "    .dataframe tbody tr th {\n",
       "        vertical-align: top;\n",
       "    }\n",
       "\n",
       "    .dataframe thead th {\n",
       "        text-align: right;\n",
       "    }\n",
       "</style>\n",
       "<table border=\"1\" class=\"dataframe\">\n",
       "  <thead>\n",
       "    <tr style=\"text-align: right;\">\n",
       "      <th></th>\n",
       "      <th>Line_ID</th>\n",
       "      <th>Trip_ID</th>\n",
       "      <th>Stop_ID</th>\n",
       "      <th>Vehicle_ID</th>\n",
       "      <th>Link_ID</th>\n",
       "      <th>Entering?</th>\n",
       "      <th>Arrival/Departure_time</th>\n",
       "      <th>End_stop_id</th>\n",
       "    </tr>\n",
       "  </thead>\n",
       "  <tbody>\n",
       "    <tr>\n",
       "      <th>0</th>\n",
       "      <td>50</td>\n",
       "      <td>5001</td>\n",
       "      <td>5001</td>\n",
       "      <td>5001</td>\n",
       "      <td>50005001</td>\n",
       "      <td>1</td>\n",
       "      <td>180.110</td>\n",
       "      <td>5002</td>\n",
       "    </tr>\n",
       "    <tr>\n",
       "      <th>1</th>\n",
       "      <td>50</td>\n",
       "      <td>5001</td>\n",
       "      <td>5001</td>\n",
       "      <td>5001</td>\n",
       "      <td>50005001</td>\n",
       "      <td>0</td>\n",
       "      <td>195.642</td>\n",
       "      <td>5002</td>\n",
       "    </tr>\n",
       "    <tr>\n",
       "      <th>2</th>\n",
       "      <td>50</td>\n",
       "      <td>5001</td>\n",
       "      <td>5002</td>\n",
       "      <td>5001</td>\n",
       "      <td>50015002</td>\n",
       "      <td>1</td>\n",
       "      <td>296.642</td>\n",
       "      <td>5003</td>\n",
       "    </tr>\n",
       "    <tr>\n",
       "      <th>3</th>\n",
       "      <td>50</td>\n",
       "      <td>5001</td>\n",
       "      <td>5002</td>\n",
       "      <td>5001</td>\n",
       "      <td>50015002</td>\n",
       "      <td>0</td>\n",
       "      <td>312.175</td>\n",
       "      <td>5003</td>\n",
       "    </tr>\n",
       "    <tr>\n",
       "      <th>4</th>\n",
       "      <td>50</td>\n",
       "      <td>5001</td>\n",
       "      <td>5003</td>\n",
       "      <td>5001</td>\n",
       "      <td>50025003</td>\n",
       "      <td>1</td>\n",
       "      <td>413.175</td>\n",
       "      <td>5004</td>\n",
       "    </tr>\n",
       "  </tbody>\n",
       "</table>\n",
       "</div>"
      ],
      "text/plain": [
       "   Line_ID  Trip_ID  Stop_ID  Vehicle_ID   Link_ID  Entering?  \\\n",
       "0       50     5001     5001        5001  50005001          1   \n",
       "1       50     5001     5001        5001  50005001          0   \n",
       "2       50     5001     5002        5001  50015002          1   \n",
       "3       50     5001     5002        5001  50015002          0   \n",
       "4       50     5001     5003        5001  50025003          1   \n",
       "\n",
       "   Arrival/Departure_time  End_stop_id  \n",
       "0                 180.110         5002  \n",
       "1                 195.642         5002  \n",
       "2                 296.642         5003  \n",
       "3                 312.175         5003  \n",
       "4                 413.175         5004  "
      ]
     },
     "execution_count": 134,
     "metadata": {},
     "output_type": "execute_result"
    }
   ],
   "source": [
    "df1 = pd.merge(df1, \n",
    "                  df2[['Line_ID',\"Trip_ID\",'Start_stop_ID', 'End_stop_id']], \n",
    "                  how='inner', left_on=['Line_ID','Trip_ID', 'Stop_ID'], right_on = ['Line_ID','Trip_ID','Start_stop_ID'])\n",
    "df1.drop('Start_stop_ID',axis=1, inplace=True)\n",
    "df1['End_stop_id'].astype(int)\n",
    "df1.head()"
   ]
  },
  {
   "cell_type": "code",
   "execution_count": 145,
   "metadata": {},
   "outputs": [
    {
     "data": {
      "text/html": [
       "<div>\n",
       "<style scoped>\n",
       "    .dataframe tbody tr th:only-of-type {\n",
       "        vertical-align: middle;\n",
       "    }\n",
       "\n",
       "    .dataframe tbody tr th {\n",
       "        vertical-align: top;\n",
       "    }\n",
       "\n",
       "    .dataframe thead th {\n",
       "        text-align: right;\n",
       "    }\n",
       "</style>\n",
       "<table border=\"1\" class=\"dataframe\">\n",
       "  <thead>\n",
       "    <tr style=\"text-align: right;\">\n",
       "      <th></th>\n",
       "      <th>dwell_time</th>\n",
       "    </tr>\n",
       "  </thead>\n",
       "  <tbody>\n",
       "    <tr>\n",
       "      <th>544</th>\n",
       "      <td>16.8</td>\n",
       "    </tr>\n",
       "    <tr>\n",
       "      <th>545</th>\n",
       "      <td>16.8</td>\n",
       "    </tr>\n",
       "    <tr>\n",
       "      <th>546</th>\n",
       "      <td>16.8</td>\n",
       "    </tr>\n",
       "    <tr>\n",
       "      <th>547</th>\n",
       "      <td>16.8</td>\n",
       "    </tr>\n",
       "    <tr>\n",
       "      <th>548</th>\n",
       "      <td>16.8</td>\n",
       "    </tr>\n",
       "    <tr>\n",
       "      <th>549</th>\n",
       "      <td>16.8</td>\n",
       "    </tr>\n",
       "    <tr>\n",
       "      <th>550</th>\n",
       "      <td>16.8</td>\n",
       "    </tr>\n",
       "    <tr>\n",
       "      <th>551</th>\n",
       "      <td>16.8</td>\n",
       "    </tr>\n",
       "    <tr>\n",
       "      <th>552</th>\n",
       "      <td>16.8</td>\n",
       "    </tr>\n",
       "    <tr>\n",
       "      <th>553</th>\n",
       "      <td>16.2</td>\n",
       "    </tr>\n",
       "    <tr>\n",
       "      <th>554</th>\n",
       "      <td>15.2</td>\n",
       "    </tr>\n",
       "  </tbody>\n",
       "</table>\n",
       "</div>"
      ],
      "text/plain": [
       "     dwell_time\n",
       "544        16.8\n",
       "545        16.8\n",
       "546        16.8\n",
       "547        16.8\n",
       "548        16.8\n",
       "549        16.8\n",
       "550        16.8\n",
       "551        16.8\n",
       "552        16.8\n",
       "553        16.2\n",
       "554        15.2"
      ]
     },
     "execution_count": 145,
     "metadata": {},
     "output_type": "execute_result"
    }
   ],
   "source": [
    "deltas = pd.merge(df1[df1['Entering?']==0],df1[df1['Entering?']==1],on = ['Trip_ID', \"Stop_ID\"])\n",
    "deltas = deltas[['Line_ID_x','Trip_ID', \"Stop_ID\",'Arrival/Departure_time_x','Arrival/Departure_time_y']]\n",
    "deltas['dwell_time'] = deltas['Arrival/Departure_time_x'] - deltas['Arrival/Departure_time_y']\n",
    "deltas[deltas.Trip_ID==5030].dwell_time.to_frame()"
   ]
  },
  {
   "cell_type": "code",
   "execution_count": 195,
   "metadata": {},
   "outputs": [
    {
     "data": {
      "text/html": [
       "<div>\n",
       "<style scoped>\n",
       "    .dataframe tbody tr th:only-of-type {\n",
       "        vertical-align: middle;\n",
       "    }\n",
       "\n",
       "    .dataframe tbody tr th {\n",
       "        vertical-align: top;\n",
       "    }\n",
       "\n",
       "    .dataframe thead th {\n",
       "        text-align: right;\n",
       "    }\n",
       "</style>\n",
       "<table border=\"1\" class=\"dataframe\">\n",
       "  <thead>\n",
       "    <tr style=\"text-align: right;\">\n",
       "      <th></th>\n",
       "      <th>Line_ID_x</th>\n",
       "      <th>Trip_ID</th>\n",
       "      <th>Stop_ID_x</th>\n",
       "      <th>Arrival/Departure_time_x</th>\n",
       "      <th>Arrival/Departure_time_y</th>\n",
       "      <th>travel_time</th>\n",
       "    </tr>\n",
       "  </thead>\n",
       "  <tbody>\n",
       "    <tr>\n",
       "      <th>0</th>\n",
       "      <td>50</td>\n",
       "      <td>5001</td>\n",
       "      <td>5001</td>\n",
       "      <td>195.642</td>\n",
       "      <td>296.642</td>\n",
       "      <td>101.0</td>\n",
       "    </tr>\n",
       "    <tr>\n",
       "      <th>1</th>\n",
       "      <td>50</td>\n",
       "      <td>5001</td>\n",
       "      <td>5002</td>\n",
       "      <td>312.175</td>\n",
       "      <td>413.175</td>\n",
       "      <td>101.0</td>\n",
       "    </tr>\n",
       "    <tr>\n",
       "      <th>2</th>\n",
       "      <td>50</td>\n",
       "      <td>5001</td>\n",
       "      <td>5003</td>\n",
       "      <td>428.707</td>\n",
       "      <td>529.707</td>\n",
       "      <td>101.0</td>\n",
       "    </tr>\n",
       "    <tr>\n",
       "      <th>3</th>\n",
       "      <td>50</td>\n",
       "      <td>5001</td>\n",
       "      <td>5004</td>\n",
       "      <td>545.240</td>\n",
       "      <td>586.240</td>\n",
       "      <td>41.0</td>\n",
       "    </tr>\n",
       "    <tr>\n",
       "      <th>4</th>\n",
       "      <td>50</td>\n",
       "      <td>5001</td>\n",
       "      <td>5005</td>\n",
       "      <td>601.772</td>\n",
       "      <td>702.772</td>\n",
       "      <td>101.0</td>\n",
       "    </tr>\n",
       "  </tbody>\n",
       "</table>\n",
       "</div>"
      ],
      "text/plain": [
       "   Line_ID_x  Trip_ID  Stop_ID_x  Arrival/Departure_time_x  \\\n",
       "0         50     5001       5001                   195.642   \n",
       "1         50     5001       5002                   312.175   \n",
       "2         50     5001       5003                   428.707   \n",
       "3         50     5001       5004                   545.240   \n",
       "4         50     5001       5005                   601.772   \n",
       "\n",
       "   Arrival/Departure_time_y  travel_time  \n",
       "0                   296.642        101.0  \n",
       "1                   413.175        101.0  \n",
       "2                   529.707        101.0  \n",
       "3                   586.240         41.0  \n",
       "4                   702.772        101.0  "
      ]
     },
     "execution_count": 195,
     "metadata": {},
     "output_type": "execute_result"
    }
   ],
   "source": [
    "travel_times = pd.merge(df1[df1['Entering?']==0],df1[df1['Entering?']==1],left_on = ['Trip_ID', \"End_stop_id\"], right_on =['Trip_ID', \"Stop_ID\"])\n",
    "travel_times = travel_times[['Line_ID_x','Trip_ID', \"Stop_ID_x\",'Arrival/Departure_time_x','Arrival/Departure_time_y']]\n",
    "travel_times['travel_time'] = travel_times['Arrival/Departure_time_y'] - travel_times['Arrival/Departure_time_x']\n",
    "travel_times.head()"
   ]
  },
  {
   "cell_type": "markdown",
   "metadata": {},
   "source": [
    "### Link travel time plot"
   ]
  },
  {
   "cell_type": "code",
   "execution_count": 196,
   "metadata": {},
   "outputs": [
    {
     "data": {
      "text/plain": [
       "<matplotlib.axes._subplots.AxesSubplot at 0x2d929658f60>"
      ]
     },
     "execution_count": 196,
     "metadata": {},
     "output_type": "execute_result"
    },
    {
     "data": {
      "image/png": "[encoded data removed]",
      "text/plain": [
       "<Figure size 432x288 with 1 Axes>"
      ]
     },
     "metadata": {},
     "output_type": "display_data"
    }
   ],
   "source": [
    "travel_times[(deltas.Line_ID_x==250)&(deltas.Stop_ID_x == 25010)].sort_values(by=['Arrival/Departure_time_x']).travel_time.plot()"
   ]
  },
  {
   "cell_type": "markdown",
   "metadata": {},
   "source": [
    "### Stop dwell time plot"
   ]
  },
  {
   "cell_type": "code",
   "execution_count": 197,
   "metadata": {},
   "outputs": [
    {
     "data": {
      "text/plain": [
       "<matplotlib.axes._subplots.AxesSubplot at 0x2d92969a198>"
      ]
     },
     "execution_count": 197,
     "metadata": {},
     "output_type": "execute_result"
    },
    {
     "data": {
      "image/png": "[encoded data removed]",
      "text/plain": [
       "<Figure size 432x288 with 1 Axes>"
      ]
     },
     "metadata": {},
     "output_type": "display_data"
    }
   ],
   "source": [
    "dwell_times = pd.merge(df1[df1['Entering?']==0],df1[df1['Entering?']==1],on = ['Trip_ID', \"Stop_ID\"])\n",
    "dwell_times = dwell_times[['Line_ID_x','Trip_ID', \"Stop_ID\",'Arrival/Departure_time_x','Arrival/Departure_time_y']]\n",
    "dwell_times['dwell_time'] = dwell_times['Arrival/Departure_time_x'] - dwell_times['Arrival/Departure_time_y']\n",
    "dwell_times[dwell_times.Stop_ID<5005].boxplot(column='dwell_time',by='Stop_ID')"
   ]
  },
  {
   "cell_type": "markdown",
   "metadata": {},
   "source": [
    "### Pass hours"
   ]
  },
  {
   "cell_type": "code",
   "execution_count": 227,
   "metadata": {},
   "outputs": [
    {
     "data": {
      "text/plain": [
       "<matplotlib.axes._subplots.AxesSubplot at 0x2d92984b1d0>"
      ]
     },
     "execution_count": 227,
     "metadata": {},
     "output_type": "execute_result"
    },
    {
     "data": {
      "image/png": "[encoded data removed]",
      "text/plain": [
       "<Figure size 432x288 with 1 Axes>"
      ]
     },
     "metadata": {},
     "output_type": "display_data"
    }
   ],
   "source": [
    "result = pd.merge(travel_times, df2, how='outer', left_on=['Trip_ID', 'Stop_ID_x'], right_on = ['Trip_ID','Start_stop_ID'])\n",
    "result = pd.merge(dwell_times, result, how='outer', left_on=['Trip_ID', 'Stop_ID'], right_on = ['Trip_ID','Start_stop_ID'])\n",
    "result['pass_h'] = (result.travel_time  + result.dwell_time) * result.Passenger_load/3600\n",
    "result.groupby('Line_ID_x_x').sum().pass_h.plot(kind='barh', color='black')"
   ]
  }
 ],
 "metadata": {
  "kernelspec": {
   "display_name": "Python 3",
   "language": "python",
   "name": "python3"
  },
  "language_info": {
   "codemirror_mode": {
    "name": "ipython",
    "version": 3
   },
   "file_extension": ".py",
   "mimetype": "text/x-python",
   "name": "python",
   "nbconvert_exporter": "python",
   "pygments_lexer": "ipython3",
   "version": "3.5.5"
  }
 },
 "nbformat": 4,
 "nbformat_minor": 2
}
