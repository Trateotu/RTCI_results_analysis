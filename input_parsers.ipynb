{
 "cells": [
  {
   "cell_type": "code",
   "execution_count": null,
   "metadata": {},
   "outputs": [],
   "source": [
    "import os\n",
    "import pyparsing as pp\n",
    "import pandas as pd\n",
    "import re\n"
   ]
  },
  {
   "cell_type": "code",
   "execution_count": 24,
   "metadata": {},
   "outputs": [],
   "source": [
    "main_path = 'Amsterdam_input'\n",
    "output_path = os.path.join(main_path,\"parsed\")\n",
    "if not os.path.isdir(output_path):\n",
    "    os.mkdir(output_path)"
   ]
  },
  {
   "cell_type": "code",
   "execution_count": 45,
   "metadata": {},
   "outputs": [],
   "source": [
    "def parse_dat(main_path, dat, dfs = None, _to_csv = True):\n",
    "    nested_braces = pp.nestedExpr('{', '}')\n",
    "    path = os.path.join(main_path,dat)\n",
    "    f = open(path) # file to be parsed\n",
    "    t = None # table to be stored into csv, pandas\n",
    "    if dfs is None:\n",
    "        dfs = dict()\n",
    "    temp = None # tempoarary record holder (for multiline records)\n",
    "    table_name = None\n",
    "    for l in f.readlines():\n",
    "        # new table condition\n",
    "        if l.strip() and not l.startswith(\"{\") and not l.startswith('format') and temp is None:\n",
    "            if table_name is not None and t is not None:\n",
    "                # if we already have table\n",
    "                df = pd.DataFrame.from_records(t)\n",
    "                if _to_csv:\n",
    "                    df.to_csv(os.path.join(output_path, dat[:-4] + \"_\" + table_name +\".csv\"))\n",
    "                print(\"\\t\",len(t), \" records parsed.\")\n",
    "                t = None\n",
    "                dfs[table_name] = df\n",
    "            table_name = l.split(\":\")[0]\n",
    "            print(table_name, \" table found in file.\")\n",
    "            new_table_flag = True\n",
    "        if new_table_flag and l.startswith(\"{\"):\n",
    "            t = list()\n",
    "            new_table_flag = False\n",
    "        if t is not None:\n",
    "            if l.startswith(\"{\"):\n",
    "                if len(l.split(\"}\")[-1].replace(\"\\n\",\"\").replace(\"\\t\",\"\"))==0:\n",
    "                    if l.count(\"{\") == l.count(\"}\"):\n",
    "                        temp = l \n",
    "                        t.append(nested_braces.parseString(temp).asList()[0]) \n",
    "                        temp= None\n",
    "                    else:\n",
    "                        temp = l if temp is None else temp+l\n",
    "                else:\n",
    "                    temp = l if temp is None else temp+l\n",
    "    # to capture last table of parsed file\n",
    "    if t is not None:\n",
    "        df = pd.DataFrame.from_records(t)\n",
    "        if _to_csv:\n",
    "            df.to_csv(os.path.join(output_path, dat[:-4] + \"_\" + table_name +\".csv\"))\n",
    "        print(\"\\t\",len(t), \" records parsed.\")\n",
    "        dfs[table_name] = df\n",
    "    return dfs"
   ]
  },
  {
   "cell_type": "code",
   "execution_count": 46,
   "metadata": {},
   "outputs": [
    {
     "name": "stdout",
     "output_type": "stream",
     "text": [
      "stops  table found in file.\n",
      "\t 104  records parsed.\n",
      "stops_distances  table found in file.\n",
      "\t 8  records parsed.\n",
      "travel_time_disruptions  table found in file.\n"
     ]
    }
   ],
   "source": [
    "dfs = parse_dat(main_path,'transit_network.dat')"
   ]
  },
  {
   "cell_type": "code",
   "execution_count": null,
   "metadata": {},
   "outputs": [],
   "source": [
    "dfs = dict()\n",
    "for dat in os.listdir(main_path):\n",
    "    try:\n",
    "        df = pd.read_table(os.path.join(main_path,dat))\n",
    "        dfs[dat[:-4]]= df\n",
    "        df.to_csv(os.path.join(main_path,dat).replace(\".dat\",\".csv\"))\n",
    "        print(\"Loaded {} records on {} columns from {} file\".format(df.shape[0],df.shape[1],dat))\n",
    "    except:\n",
    "        print(\"Failed to load: \",dat)"
   ]
  }
 ],
 "metadata": {
  "kernelspec": {
   "display_name": "Python 3",
   "language": "python",
   "name": "python3"
  },
  "language_info": {
   "codemirror_mode": {
    "name": "ipython",
    "version": 3
   },
   "file_extension": ".py",
   "mimetype": "text/x-python",
   "name": "python",
   "nbconvert_exporter": "python",
   "pygments_lexer": "ipython3",
   "version": "3.5.5"
  }
 },
 "nbformat": 4,
 "nbformat_minor": 1
}
