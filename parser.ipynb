{
 "cells": [
  {
   "cell_type": "code",
   "execution_count": null,
   "metadata": {},
   "outputs": [],
   "source": [
    "import pyparsing as pp"
   ]
  },
  {
   "cell_type": "code",
   "execution_count": null,
   "metadata": {
    "collapsed": true
   },
   "outputs": [],
   "source": [
    "f = open('/Users/rafal/github/Visum_to_BusMezzo_interface/test/Krakow_test_I_obw/ref/transit_network.dat')\n",
    "t = None\n",
    "nested_braces = pp.nestedExpr('{', '}')\n",
    "dfs = dict()\n",
    "for l in f.readlines():\n",
    "    if l.strip() and not l.startswith(\"{\") and not l.startswith('format'):\n",
    "        table_name = l.split(\":\")[0]\n",
    "        new_table_flag = True\n",
    "    if new_table_flag and l.startswith(\"{\"):\n",
    "        t = list()\n",
    "        new_table_flag = False\n",
    "    if t is not None:\n",
    "        if l.startswith(\"{\"):\n",
    "            #l = l.replace(\"{\\t\",\",[\").replace(\"\\t}\",\"]\").replace(\"{\",\"[\").replace(\"}\",\"]\").replace(\"\\t\",\",\")[1:]\n",
    "            #l = l.replace(\",,\",\",\")\n",
    "            t.append(nested_braces.parseString(l).asList()[0])\n",
    "        if not l.strip():\n",
    "            df = pd.DataFrame.from_records(t)\n",
    "            df.set_index(0)\n",
    "            del df[0]\n",
    "            dfs[table_name] = df\n",
    "dfs.keys()"
   ]
  }
 ],
 "metadata": {
  "kernelspec": {
   "display_name": "Python 2",
   "language": "python",
   "name": "python2"
  },
  "language_info": {
   "codemirror_mode": {
    "name": "ipython",
    "version": 2
   },
   "file_extension": ".py",
   "mimetype": "text/x-python",
   "name": "python",
   "nbconvert_exporter": "python",
   "pygments_lexer": "ipython2",
   "version": "2.7.6"
  }
 },
 "nbformat": 4,
 "nbformat_minor": 0
}
