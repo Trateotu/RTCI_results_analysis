{
 "cells": [
  {
   "cell_type": "code",
   "execution_count": null,
   "metadata": {
    "collapsed": true
   },
   "outputs": [],
   "source": [
    "f = open('/Amsterdam_input/transit_network.dat')\n",
    "t = None\n",
    "dfs = dict()\n",
    "for l in f.readlines():\n",
    "    if l.strip() and not l.startswith(\"{\") and not l.startswith('format'):\n",
    "        table_name = l.split(\":\")[0]\n",
    "        new_table_flag = True\n",
    "    if new_table_flag and l.startswith(\"{\"):\n",
    "        t = list()\n",
    "        new_table_flag = False\n",
    "    if t is not None:\n",
    "        if l.startswith(\"{\"):\n",
    "            row = l.replace(\"{\\t\",\"\").replace(\"}\",\"\").replace(\"\\t\\t\",\"\\t\").replace(\"\\t\\n\",\"\")\n",
    "            t.append(row.split(\"\\t\"))\n",
    "        if not l.strip():\n",
    "            df = pd.DataFrame.from_records(t, )\n",
    "            dfs[table_name] = df\n",
    "dfs.keys()\n",
    "dfs['stops']"
   ]
  }
 ],
 "metadata": {
  "kernelspec": {
   "display_name": "Python 2",
   "language": "python",
   "name": "python2"
  },
  "language_info": {
   "codemirror_mode": {
    "name": "ipython",
    "version": 2
   },
   "file_extension": ".py",
   "mimetype": "text/x-python",
   "name": "python",
   "nbconvert_exporter": "python",
   "pygments_lexer": "ipython2",
   "version": "2.7.6"
  }
 },
 "nbformat": 4,
 "nbformat_minor": 0
}
